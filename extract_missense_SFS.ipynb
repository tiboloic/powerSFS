{
 "cells": [
  {
   "cell_type": "markdown",
   "id": "39b17202-971e-4b60-b9df-5d1850df80fb",
   "metadata": {},
   "source": [
    "# Extraction of missense variants per allele count octave"
   ]
  },
  {
   "cell_type": "code",
   "execution_count": 17,
   "id": "2c190dc7-90c3-4258-ae3d-dbe0ef4f9a86",
   "metadata": {
    "tags": []
   },
   "outputs": [
    {
     "name": "stderr",
     "output_type": "stream",
     "text": [
      "Running on Apache Spark version 3.3.4\n",
      "SparkUI available at http://loic-powersfs-v2-motebook.us-central1-a.c.psychic-rhythm-198903.internal:4040\n",
      "Welcome to\n",
      "     __  __     <>__\n",
      "    / /_/ /__  __/ /\n",
      "   / __  / _ `/ / /\n",
      "  /_/ /_/\\_,_/_/_/   version 0.2.128-eead8100a1c1\n",
      "LOGGING: writing to /home/jupyter/powerSFS/hail-20240401-0206-0.2.128-eead8100a1c1.log\n"
     ]
    }
   ],
   "source": [
    "import hail as hl;\n",
    "hl.init()"
   ]
  },
  {
   "cell_type": "code",
   "execution_count": 19,
   "id": "645822ad-e895-4198-a6ec-cb0719604db5",
   "metadata": {
    "tags": []
   },
   "outputs": [
    {
     "name": "stderr",
     "output_type": "stream",
     "text": [
      "[Stage 2:====================================================>(8778 + 4) / 8789]\r"
     ]
    }
   ],
   "source": [
    "# connect to gnomADv4.0 exomes\n",
    "ht = hl.read_table('gs://gcp-public-data--gnomad/release/4.0/ht/exomes/gnomad.exomes.v4.0.sites.ht')\n",
    "\n",
    "# setup list of variants' consequences\n",
    "CSQ_LOF = [\n",
    "    \"transcript_ablation\",\n",
    "    \"splice_acceptor_variant\",\n",
    "    \"splice_donor_variant\",\n",
    "    \"stop_gained\",\n",
    "    \"frameshift_variant\",\n",
    "    \"stop_lost\"]\n",
    "\n",
    "CSQ_MIS = ['missense_variant']\n",
    "CSQ_SYN = ['synonymous_variant']\n",
    "CSQ_ALL = CSQ_LOF + CSQ_MIS + CSQ_SYN\n",
    "\n",
    "# functional variants\n",
    "CSQ_FUNC = CSQ_LOF + CSQ_MIS\n",
    "\n",
    "csqfunc = hl.literal(CSQ_FUNC)\n",
    "selcsq = hl.literal(CSQ_ALL)\n",
    "\n",
    "# keep variants that PASS and have AF>0 and most_severe_consequence is LoF or missense\n",
    "ht = ht.filter((ht.freq[0].AF > 0) & (ht.filters.length()==0) & csqfunc.contains(ht.row.vep.most_severe_consequence))\n",
    "\n",
    "# annotate variants with first gene matching most_severe_consequence\n",
    "# first protein coding transcript matching worst consequence associated with a HGNC gene\n",
    "# TODO should probably restrict to MANE transcript\n",
    "# TODO should scan all transcripts in case of overlapping genes on different strands \n",
    "ht = ht.annotate(gene = ht.vep.transcript_consequences.find(lambda x: x.consequence_terms.contains(ht.vep.most_severe_consequence) & (x.biotype == 'protein_coding') & (x.gene_symbol_source == 'HGNC')).gene_symbol)\n",
    "\n",
    "# only keep variants with a matching gene\n",
    "ht = ht.filter(hl.is_defined(ht.gene))\n",
    "\n",
    "# add allele count' octave\n",
    "ht = ht.annotate(octave = hl.floor(hl.log(ht.freq[0].AC,2)))\n",
    "\n",
    "# group by gene and octave and add some QC information\n",
    "res = ht.group_by('gene','octave').aggregate(count = hl.agg.count(),\n",
    "                                             AN_mean = hl.agg.mean(ht.freq[0].AN),\n",
    "                                             AN_min = hl.agg.min(ht.freq[0].AN),\n",
    "                                             AN_max = hl.agg.max(ht.freq[0].AN))\n",
    "\n",
    "# export result\n",
    "res.export('gs://vccrieg/powerSFSv2/gnomADv4_SFS_prototype.tsv')"
   ]
  }
 ],
 "metadata": {
  "environment": {
   "kernel": "conda-root-py",
   "name": "workbench-notebooks.m119",
   "type": "gcloud",
   "uri": "us-docker.pkg.dev/deeplearning-platform-release/gcr.io/workbench-notebooks:m119"
  },
  "kernelspec": {
   "display_name": "Python 3 (ipykernel) (Local)",
   "language": "python",
   "name": "conda-root-py"
  },
  "language_info": {
   "codemirror_mode": {
    "name": "ipython",
    "version": 3
   },
   "file_extension": ".py",
   "mimetype": "text/x-python",
   "name": "python",
   "nbconvert_exporter": "python",
   "pygments_lexer": "ipython3",
   "version": "3.10.14"
  }
 },
 "nbformat": 4,
 "nbformat_minor": 5
}
